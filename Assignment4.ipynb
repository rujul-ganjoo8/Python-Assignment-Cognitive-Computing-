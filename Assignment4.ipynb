{
  "nbformat": 4,
  "nbformat_minor": 0,
  "metadata": {
    "colab": {
      "provenance": []
    },
    "kernelspec": {
      "name": "python3",
      "display_name": "Python 3"
    },
    "language_info": {
      "name": "python"
    }
  },
  "cells": [
    {
      "cell_type": "markdown",
      "source": [
        "Q.1 Write a program to create a NumPy 1D-array with 5 elements and perform basic\n",
        "operations like:\n",
        "a) Addition of 2 in all the element\n",
        "b) Multiply 3 with all the elements\n",
        "c) Divide every element by 2"
      ],
      "metadata": {
        "id": "jJ71cIPX834x"
      }
    },
    {
      "cell_type": "code",
      "source": [
        "import numpy as np\n",
        "\n",
        "array = np.array([1, 2, 3, 4, 5])\n",
        "\n",
        "# a) Addition\n",
        "added_array = array + 2\n",
        "print(\"Array after adding 2:\", added_array)\n",
        "\n",
        "# b) Multiply\n",
        "multiplied_array = array * 3\n",
        "print(\"Array after multiplying by 3:\", multiplied_array)\n",
        "\n",
        "# c) Divide every element by 2\n",
        "divided_array = array / 2\n",
        "print(\"Array after dividing by 2:\", divided_array)"
      ],
      "metadata": {
        "colab": {
          "base_uri": "https://localhost:8080/"
        },
        "id": "Cklwp_Wr863z",
        "outputId": "87380430-cb49-4c24-fdcf-2475ab04b8c6"
      },
      "execution_count": 1,
      "outputs": [
        {
          "output_type": "stream",
          "name": "stdout",
          "text": [
            "Array after adding 2: [3 4 5 6 7]\n",
            "Array after multiplying by 3: [ 3  6  9 12 15]\n",
            "Array after dividing by 2: [0.5 1.  1.5 2.  2.5]\n"
          ]
        }
      ]
    },
    {
      "cell_type": "markdown",
      "source": [
        "Q.2 Questions on Basic NumPy Array:\n",
        "a) Reverse the NumPy array: arr = np.array([1, 2, 3, 6, 4, 5])\n",
        "b) Find the most frequent value and their indice(s) in the following arrays:\n",
        "i. x = np.array([1,2,3,4,5,1,2,1,1,1])\n",
        "ii. y = np.array([1, 1, 1, 2, 3, 4, 2, 4, 3, 3, ])"
      ],
      "metadata": {
        "id": "M3ssJP2H9MTk"
      }
    },
    {
      "cell_type": "code",
      "source": [
        "import numpy as np\n",
        "\n",
        "# Given array\n",
        "arr = np.array([1, 2, 3, 6, 4, 5])\n",
        "\n",
        "# Reverse the array\n",
        "reversed_arr = arr[::-1]\n",
        "print(\"Reversed array:\", reversed_arr)\n",
        "\n",
        "#for x\n",
        "x = np.array([1,2,3,4,5,1,2,1,1,1])\n",
        "\n",
        "# Find the most frequent value\n",
        "unique, counts = np.unique(x, return_counts=True)\n",
        "most_frequent_value = unique[np.argmax(counts)]\n",
        "\n",
        "# Find indices of the most frequent value\n",
        "indices = np.where(x == most_frequent_value)[0]\n",
        "\n",
        "print(\"Most frequent value in x:\", most_frequent_value)\n",
        "print(\"Indices:\", indices)\n",
        "\n",
        "# for y\n",
        "y = np.array([1, 1, 1, 2, 3, 4, 2, 4, 3, 3])\n",
        "\n",
        "# Find the most frequent value\n",
        "unique, counts = np.unique(y, return_counts=True)\n",
        "most_frequent_value = unique[np.argmax(counts)]\n",
        "\n",
        "# Find indices of the most frequent value\n",
        "indices = np.where(y == most_frequent_value)[0]\n",
        "\n",
        "print(\"Most frequent value in y:\", most_frequent_value)\n",
        "print(\"Indices:\", indices)\n"
      ],
      "metadata": {
        "colab": {
          "base_uri": "https://localhost:8080/"
        },
        "id": "-hLZd3qe9gcE",
        "outputId": "2a3e0e5e-168d-4d5a-8102-b3198f1dad57"
      },
      "execution_count": 5,
      "outputs": [
        {
          "output_type": "stream",
          "name": "stdout",
          "text": [
            "Reversed array: [5 4 6 3 2 1]\n",
            "Most frequent value in x: 1\n",
            "Indices: [0 5 7 8 9]\n",
            "Most frequent value in y: 1\n",
            "Indices: [0 1 2]\n"
          ]
        }
      ]
    },
    {
      "cell_type": "markdown",
      "source": [
        "Q.3 For the given 2-D array arr=np.array([10, 20, 30], [40, 50, 60], [70, 80, 90]), access\n",
        "elements using row and column indices as follows:\n",
        "a) Access 1st row, 2nd column\n",
        "b) Access 3rd row, 1st column"
      ],
      "metadata": {
        "id": "UZVw_uur-Rbu"
      }
    },
    {
      "cell_type": "code",
      "source": [
        "import numpy as np\n",
        "\n",
        "arr = np.array([[10, 20, 30],\n",
        "                 [40, 50, 60],\n",
        "                 [70, 80, 90]])\n",
        "\n",
        "element_a = arr[0, 1]\n",
        "print(\"Element at 1st row, 2nd column:\", element_a)\n",
        "\n",
        "element_b = arr[2, 0]\n",
        "print(\"Element at 3rd row, 1st column:\", element_b)"
      ],
      "metadata": {
        "colab": {
          "base_uri": "https://localhost:8080/"
        },
        "id": "rRfNpxc7-TMd",
        "outputId": "6eb94957-1d1d-4724-b2ba-6f906b2f80b6"
      },
      "execution_count": 2,
      "outputs": [
        {
          "output_type": "stream",
          "name": "stdout",
          "text": [
            "Element at 1st row, 2nd column: 20\n",
            "Element at 3rd row, 1st column: 70\n"
          ]
        }
      ]
    },
    {
      "cell_type": "markdown",
      "source": [
        "Q.4 Write program to create an 1-D NumPy array named <<Your Name>> with evenly\n",
        "spaced 25 numbers from 10 to 100 using linspace(). Print the dimensions of the array,\n",
        "shape, total elements, the data type of each element and total number of bytes consumed\n",
        "by the array. Find the transpose of this array using reshape() attribute. Can we do the same\n",
        "with T attribute?"
      ],
      "metadata": {
        "id": "Z4wh7Q1M-hGn"
      }
    },
    {
      "cell_type": "code",
      "source": [
        "import numpy as np\n",
        "\n",
        "rujul= np.linspace(10, 100, 25)\n",
        "\n",
        "print(\"Dimensions of the array:\", rujul.ndim)\n",
        "print(\"Shape of the array:\", rujul.shape)\n",
        "print(\"Total elements in the array:\", rujul.size)\n",
        "print(\"Data type of each element:\", rujul.dtype)\n",
        "print(\"Total number of bytes consumed by the array:\", rujul.nbytes)\n",
        "\n",
        "transposed_array_reshape = rujul.reshape(25, 1)\n",
        "print(\"Transposed array using reshape():\\n\", transposed_array_reshape)\n",
        "\n",
        "transposed_array_T = rujul.T\n",
        "print(\"Transposed array using T attribute:\\n\", transposed_array_T)"
      ],
      "metadata": {
        "colab": {
          "base_uri": "https://localhost:8080/"
        },
        "id": "yHT_euZi-l1X",
        "outputId": "70119ff2-cb01-4394-8f6e-bda900697c90"
      },
      "execution_count": 3,
      "outputs": [
        {
          "output_type": "stream",
          "name": "stdout",
          "text": [
            "Dimensions of the array: 1\n",
            "Shape of the array: (25,)\n",
            "Total elements in the array: 25\n",
            "Data type of each element: float64\n",
            "Total number of bytes consumed by the array: 200\n",
            "Transposed array using reshape():\n",
            " [[ 10.  ]\n",
            " [ 13.75]\n",
            " [ 17.5 ]\n",
            " [ 21.25]\n",
            " [ 25.  ]\n",
            " [ 28.75]\n",
            " [ 32.5 ]\n",
            " [ 36.25]\n",
            " [ 40.  ]\n",
            " [ 43.75]\n",
            " [ 47.5 ]\n",
            " [ 51.25]\n",
            " [ 55.  ]\n",
            " [ 58.75]\n",
            " [ 62.5 ]\n",
            " [ 66.25]\n",
            " [ 70.  ]\n",
            " [ 73.75]\n",
            " [ 77.5 ]\n",
            " [ 81.25]\n",
            " [ 85.  ]\n",
            " [ 88.75]\n",
            " [ 92.5 ]\n",
            " [ 96.25]\n",
            " [100.  ]]\n",
            "Transposed array using T attribute:\n",
            " [ 10.    13.75  17.5   21.25  25.    28.75  32.5   36.25  40.    43.75\n",
            "  47.5   51.25  55.    58.75  62.5   66.25  70.    73.75  77.5   81.25\n",
            "  85.    88.75  92.5   96.25 100.  ]\n"
          ]
        }
      ]
    },
    {
      "cell_type": "markdown",
      "source": [
        "Q5. Create a 2-D Array of three rows and four columns, named ucs420_<your_name>>\n",
        "with following values – 10, 20, 30, 40, 50, 60, 70, 80, 90, 15, 20, 35. Compute the mean,\n",
        "median, max, min, unique elements. Reshape the array to four rows and three columns and\n",
        "name it as reshaped_ ucs420_<your_name>>. Resize the array to two rows and three\n",
        "columns and name it as resized_ ucs420_<your_name>>."
      ],
      "metadata": {
        "id": "DqlG8DeT-8pS"
      }
    },
    {
      "cell_type": "code",
      "source": [
        "import numpy as np\n",
        "\n",
        "rujul = np.array([[10, 20, 30, 40],\n",
        "                  [50, 60, 70, 80],\n",
        "                  [90, 15, 20, 35]])\n",
        "\n",
        "mean_value = np.mean(rujul)\n",
        "median_value = np.median(rujul)\n",
        "max_value = np.max(rujul)\n",
        "min_value = np.min(rujul)\n",
        "unique_elements = np.unique(rujul)\n",
        "\n",
        "print(\"Mean:\", mean_value)\n",
        "print(\"Median:\", median_value)\n",
        "print(\"Max:\", max_value)\n",
        "print(\"Min:\", min_value)\n",
        "print(\"Unique elements:\", unique_elements)\n",
        "\n",
        "reshaped_rujul = rujul.reshape(4, 3)\n",
        "print(\"Reshaped array (4 rows, 3 columns):\\n\", reshaped_rujul)\n",
        "\n",
        "resized_rujul = np.resize(rujul, (2, 3))\n",
        "print(\"Resized array (2 rows, 3 columns):\\n\", resized_rujul)"
      ],
      "metadata": {
        "colab": {
          "base_uri": "https://localhost:8080/"
        },
        "id": "E3TAtSJu_B1W",
        "outputId": "15b2a435-cafb-4d2a-8480-a89e532e36e3"
      },
      "execution_count": 4,
      "outputs": [
        {
          "output_type": "stream",
          "name": "stdout",
          "text": [
            "Mean: 43.333333333333336\n",
            "Median: 37.5\n",
            "Max: 90\n",
            "Min: 10\n",
            "Unique elements: [10 15 20 30 35 40 50 60 70 80 90]\n",
            "Reshaped array (4 rows, 3 columns):\n",
            " [[10 20 30]\n",
            " [40 50 60]\n",
            " [70 80 90]\n",
            " [15 20 35]]\n",
            "Resized array (2 rows, 3 columns):\n",
            " [[10 20 30]\n",
            " [40 50 60]]\n"
          ]
        }
      ]
    }
  ]
}