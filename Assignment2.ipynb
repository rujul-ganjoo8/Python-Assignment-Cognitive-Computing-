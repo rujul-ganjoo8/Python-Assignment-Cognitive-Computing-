{
  "nbformat": 4,
  "nbformat_minor": 0,
  "metadata": {
    "colab": {
      "provenance": []
    },
    "kernelspec": {
      "name": "python3",
      "display_name": "Python 3"
    },
    "language_info": {
      "name": "python"
    }
  },
  "cells": [
    {
      "cell_type": "markdown",
      "source": [
        "Q1. Create a List L that is defined as= [10, 20, 30, 40, 50, 60, 70, 80].\n",
        "i.\n",
        "WAP to add 200 and 300 to L.\n",
        "ii.\n",
        "iii.\n",
        "iv.\n",
        "WAP to remove 10 and 30 from L.\n",
        "WAP to sort L in ascending order.\n",
        "WAP to sort L in descending order."
      ],
      "metadata": {
        "id": "H_JrG0te_AaE"
      }
    },
    {
      "cell_type": "code",
      "source": [
        "L = [10, 20, 30, 40, 50, 60, 70, 80]\n",
        "\n",
        "L.append(200)\n",
        "L.append(300)\n",
        "print(\"After adding 200 and 300:\", L)\n",
        "\n",
        "L.remove(10)\n",
        "L.remove(30)\n",
        "print(\"After removing 10 and 30:\", L)\n",
        "\n",
        "L.sort()\n",
        "print(\"Sorted in ascending order:\", L)\n",
        "\n",
        "L.sort(reverse=True)\n",
        "print(\"Sorted in descending order:\", L)"
      ],
      "metadata": {
        "colab": {
          "base_uri": "https://localhost:8080/"
        },
        "id": "QNaoyA7__G8V",
        "outputId": "f80d6ac3-abec-4edb-8e3e-4d37e2c9752a"
      },
      "execution_count": 5,
      "outputs": [
        {
          "output_type": "stream",
          "name": "stdout",
          "text": [
            "After adding 200 and 300: [10, 20, 30, 40, 50, 60, 70, 80, 200, 300]\n",
            "After removing 10 and 30: [20, 40, 50, 60, 70, 80, 200, 300]\n",
            "Sorted in ascending order: [20, 40, 50, 60, 70, 80, 200, 300]\n",
            "Sorted in descending order: [300, 200, 80, 70, 60, 50, 40, 20]\n"
          ]
        }
      ]
    },
    {
      "cell_type": "markdown",
      "source": [
        "Q2 Create a tuple of marks scored as scores = (45, 89.5, 76, 45.4, 89, 92, 58, 45) and\n",
        "perform the following operations using tuple functions:\n",
        "i.\n",
        "ii.\n",
        "iii.\n",
        "iv.\n",
        "Identify the highest score and its index in the tuple.\n",
        "Find the lowest score and count how many times it appears.\n",
        "Reverse the tuple and return it as a list.\n",
        "Check if a specific score ‘76’ (input by the user) is present in the tuple and\n",
        "print its first occurrence index, or a message saying it’s not present."
      ],
      "metadata": {
        "id": "38SBeGFHATts"
      }
    },
    {
      "cell_type": "code",
      "source": [
        "scores = (45, 89.5, 76, 45.4, 89, 92, 58, 45)\n",
        "\n",
        "highest_score = max(scores)\n",
        "highest_index = scores.index(highest_score)\n",
        "print(f\"Highest score: {highest_score}, Index: {highest_index}\")\n",
        "\n",
        "lowest_score = min(scores)\n",
        "lowest_count = scores.count(lowest_score)\n",
        "print(f\"Lowest score: {lowest_score}, Count: {lowest_count}\")\n",
        "\n",
        "reversed_scores = list(scores[::-1])\n",
        "print(f\"Reversed scores as a list: {reversed_scores}\")\n",
        "\n",
        "specific_score = 76\n",
        "if specific_score in scores:\n",
        "    first_occurrence_index = scores.index(specific_score)\n",
        "    print(f\"Score {specific_score} is present at index: {first_occurrence_index}\")\n",
        "else:\n",
        "    print(f\"Score {specific_score} is not present in the tuple.\")"
      ],
      "metadata": {
        "colab": {
          "base_uri": "https://localhost:8080/"
        },
        "id": "GduoKf9dAhEc",
        "outputId": "f8f7371b-873d-4646-ed50-0f149b8530ee"
      },
      "execution_count": 4,
      "outputs": [
        {
          "output_type": "stream",
          "name": "stdout",
          "text": [
            "Highest score: 92, Index: 5\n",
            "Lowest score: 45, Count: 2\n",
            "Reversed scores as a list: [45, 58, 92, 89, 45.4, 76, 89.5, 45]\n",
            "Score 76 is present at index: 2\n"
          ]
        }
      ]
    },
    {
      "cell_type": "markdown",
      "source": [
        "Q3.WAP to create a list of 100 random numbers between 100 and 900. Count and print\n",
        "the:\n",
        "i.\n",
        "ii.\n",
        "iii.\n",
        "All odd numbers\n",
        "All even numbers\n",
        "All prime numbers"
      ],
      "metadata": {
        "id": "JrnPi3I1BiOZ"
      }
    },
    {
      "cell_type": "code",
      "source": [
        "import random\n",
        "\n",
        "random_numbers = [random.randint(100, 900) for _ in range(100)]\n",
        "\n",
        "odd_numbers = []\n",
        "even_numbers = []\n",
        "prime_numbers = []\n",
        "\n",
        "def is_prime(n):\n",
        "    if n <= 1:\n",
        "        return False\n",
        "    for i in range(2, int(n**0.5) + 1):\n",
        "        if n % i == 0:\n",
        "            return False\n",
        "    return True\n",
        "\n",
        "for number in random_numbers:\n",
        "    if number % 2 == 0:\n",
        "        even_numbers.append(number)\n",
        "    else:\n",
        "        odd_numbers.append(number)\n",
        "\n",
        "    if is_prime(number):\n",
        "        prime_numbers.append(number)\n",
        "\n",
        "\n",
        "print(\"Odd numbers:\", odd_numbers)\n",
        "print(\"Count of odd numbers: \",len(odd_numbers))\n",
        "print(\"Even numbers:\", even_numbers)\n",
        "print(\"Count of even numbers: \",len(even_numbers))\n",
        "print(\"Prime numbers:\", prime_numbers)\n",
        "print(\"Count of prime numbers: \",len(prime_numbers))"
      ],
      "metadata": {
        "colab": {
          "base_uri": "https://localhost:8080/"
        },
        "id": "EtgfESh5Bm4p",
        "outputId": "e6f69c12-3c1e-4364-8d97-47ddec9173ba"
      },
      "execution_count": 3,
      "outputs": [
        {
          "output_type": "stream",
          "name": "stdout",
          "text": [
            "Odd numbers: [299, 621, 715, 271, 853, 671, 641, 231, 829, 867, 113, 589, 213, 215, 173, 509, 621, 741, 351, 319, 291, 771, 629, 865, 303, 545, 101, 801, 617, 711, 739, 187, 573, 453, 327, 677, 127, 261, 671, 523, 501, 263, 323, 129, 415, 753, 229, 763, 307, 399, 523, 487, 103]\n",
            "Count of odd numbers:  53\n",
            "Even numbers: [628, 818, 546, 604, 640, 130, 148, 318, 286, 604, 622, 766, 364, 456, 498, 574, 116, 654, 520, 586, 774, 288, 178, 500, 698, 384, 760, 384, 722, 516, 278, 316, 404, 258, 872, 244, 458, 384, 498, 564, 360, 246, 822, 398, 460, 724, 550]\n",
            "Count of even numbers:  47\n",
            "Prime numbers: [271, 853, 641, 829, 113, 173, 509, 101, 617, 739, 677, 127, 523, 263, 229, 307, 523, 487, 103]\n",
            "Count of prime numbers:  19\n"
          ]
        }
      ]
    },
    {
      "cell_type": "markdown",
      "source": [
        "Q4.Consider the following two sets, A and B, represen ng scores of two teams in mul ple\n",
        "matches.  A = {34, 56, 78, 90}  and B = {78, 45, 90, 23}\n",
        "WAP to perform the following opera ons using set func ons:\n",
        "i.\n",
        "Find the unique scores achieved by both teams (union of sets).\n",
        "ii.\n",
        "iii.\n",
        "iv.\n",
        "v.\n",
        "Iden fy the scores that are common to both teams (intersec on of sets).\n",
        "Find the scores that are exclusive to each team (symmetric difference).\n",
        "Check if the scores of team A are a subset of team B, and if team B's scores are\n",
        "a superset of team A.\n",
        "Remove a specific score 𝑋 (input by the user) from set A if it exists. If not, print\n",
        "a message saying it is not present."
      ],
      "metadata": {
        "id": "ozUFxWuqBwGq"
      }
    },
    {
      "cell_type": "code",
      "source": [
        "A = {34, 56, 78, 90}\n",
        "B = {78, 45, 90, 23}\n",
        "\n",
        "unique_scores = A.union(B)\n",
        "print(f\"Unique scores achieved by both teams (Union): {unique_scores}\")\n",
        "\n",
        "common_scores = A.intersection(B)\n",
        "print(f\"Scores common to both teams (Intersection): {common_scores}\")\n",
        "\n",
        "exclusive_scores = A.symmetric_difference(B)\n",
        "print(f\"Scores exclusive to each team (Symmetric Difference): {exclusive_scores}\")\n",
        "\n",
        "is_subset = A.issubset(B)\n",
        "print(f\"Are the scores of team A a subset of team B? {is_subset}\")\n",
        "\n",
        "is_superset = B.issuperset(A)\n",
        "print(f\"Are the scores of team B a superset of team A? {is_superset}\")\n",
        "\n",
        "X = int(input(\"Enter a score to remove from team A: \"))\n",
        "if X in A:\n",
        "    A.remove(X)\n",
        "    print(f\"Score {X} removed from team A. Updated team A: {A}\")\n",
        "else:\n",
        "    print(f\"Score {X} is not present in team A.\")"
      ],
      "metadata": {
        "colab": {
          "base_uri": "https://localhost:8080/"
        },
        "id": "LWPIo6qaB7Av",
        "outputId": "7a86e633-b737-4d9b-e9c0-42fff108cb5b"
      },
      "execution_count": 2,
      "outputs": [
        {
          "output_type": "stream",
          "name": "stdout",
          "text": [
            "Unique scores achieved by both teams (Union): {34, 45, 78, 23, 56, 90}\n",
            "Scores common to both teams (Intersection): {90, 78}\n",
            "Scores exclusive to each team (Symmetric Difference): {34, 45, 23, 56}\n",
            "Are the scores of team A a subset of team B? False\n",
            "Are the scores of team B a superset of team A? False\n",
            "Enter a score to remove from team A: 34\n",
            "Score 34 removed from team A. Updated team A: {56, 90, 78}\n"
          ]
        }
      ]
    },
    {
      "cell_type": "markdown",
      "source": [
        "Q5.Write a program to rename a key city to a location in the following dictionary."
      ],
      "metadata": {
        "id": "9zIuA6UlCalU"
      }
    },
    {
      "cell_type": "code",
      "source": [
        "sample_dict = {\n",
        "    \"name\": \"Kelly\",\n",
        "    \"age\": 25,\n",
        "    \"salary\": 8000,\n",
        "    \"city\": \"New York\"\n",
        "}\n",
        "\n",
        "\n",
        "old_key = \"city\"\n",
        "new_key = \"location\"\n",
        "\n",
        "if old_key in sample_dict:\n",
        "    sample_dict[new_key] = sample_dict[old_key]\n",
        "    del sample_dict[old_key]\n",
        "    print(f\"Renamed '{old_key}' to '{new_key}'.\")\n",
        "else:\n",
        "    print(f\"Key '{old_key}' not found in the dictionary.\")\n",
        "\n",
        "print(\"Updated dictionary:\",sample_dict)"
      ],
      "metadata": {
        "colab": {
          "base_uri": "https://localhost:8080/"
        },
        "id": "PGOi3SmADVZZ",
        "outputId": "c4efada9-2077-4895-9e33-7154eb1e70f6"
      },
      "execution_count": 1,
      "outputs": [
        {
          "output_type": "stream",
          "name": "stdout",
          "text": [
            "Renamed 'city' to 'location'.\n",
            "Updated dictionary: {'name': 'Kelly', 'age': 25, 'salary': 8000, 'location': 'New York'}\n"
          ]
        }
      ]
    }
  ]
}