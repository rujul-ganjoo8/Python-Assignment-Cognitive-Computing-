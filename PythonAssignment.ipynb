{
  "nbformat": 4,
  "nbformat_minor": 0,
  "metadata": {
    "colab": {
      "provenance": []
    },
    "kernelspec": {
      "name": "python3",
      "display_name": "Python 3"
    },
    "language_info": {
      "name": "python"
    }
  },
  "cells": [
    {
      "cell_type": "markdown",
      "source": [
        "Q1.Hello World"
      ],
      "metadata": {
        "id": "fbN-5R2q4hQR"
      }
    },
    {
      "cell_type": "code",
      "source": [
        "print(\"Hello, my name is Rujul\")"
      ],
      "metadata": {
        "colab": {
          "base_uri": "https://localhost:8080/"
        },
        "id": "mhVPwNKr5hvV",
        "outputId": "c46ad437-500b-4299-91a1-18dae2356114"
      },
      "execution_count": 1,
      "outputs": [
        {
          "output_type": "stream",
          "name": "stdout",
          "text": [
            "Hello, my name is Rujul\n"
          ]
        }
      ]
    },
    {
      "cell_type": "markdown",
      "source": [
        "Q2.Add numbers and concatenate strings"
      ],
      "metadata": {
        "id": "lS6APbzC5sqG"
      }
    },
    {
      "cell_type": "markdown",
      "source": [
        "2.1 Add two numbers"
      ],
      "metadata": {
        "id": "i9Dn-LIV6AYp"
      }
    },
    {
      "cell_type": "code",
      "source": [
        "a=10\n",
        "b=20\n",
        "print(\"sum : \",a+b)"
      ],
      "metadata": {
        "colab": {
          "base_uri": "https://localhost:8080/"
        },
        "id": "uYennRGA6GZw",
        "outputId": "25fcc84c-ab95-4292-c29f-ec2c7e790b01"
      },
      "execution_count": 2,
      "outputs": [
        {
          "output_type": "stream",
          "name": "stdout",
          "text": [
            "sum :  30\n"
          ]
        }
      ]
    },
    {
      "cell_type": "markdown",
      "source": [
        "2.2 Concatenate two strings"
      ],
      "metadata": {
        "id": "JFZWkb4h6PoG"
      }
    },
    {
      "cell_type": "code",
      "source": [
        "str1 = \"Hello\"\n",
        "str2 = \"World\"\n",
        "print(\"Concatenated String:\", str1 + \" \" + str2)"
      ],
      "metadata": {
        "colab": {
          "base_uri": "https://localhost:8080/"
        },
        "id": "4gUzHu3d6TJf",
        "outputId": "d646c563-353c-4fe3-d80a-dbe0a6449e91"
      },
      "execution_count": 3,
      "outputs": [
        {
          "output_type": "stream",
          "name": "stdout",
          "text": [
            "Concatenated String: Hello World\n"
          ]
        }
      ]
    },
    {
      "cell_type": "markdown",
      "source": [
        "2.3 Concatenate a string and a number"
      ],
      "metadata": {
        "id": "_uWVLBiY6Zau"
      }
    },
    {
      "cell_type": "code",
      "source": [
        "a = \"The number is\"\n",
        "number = 8\n",
        "print(a + str(number))"
      ],
      "metadata": {
        "id": "P2N0qKyn7C3q"
      },
      "execution_count": null,
      "outputs": []
    },
    {
      "cell_type": "markdown",
      "source": [
        "Q3. If-Else statements"
      ],
      "metadata": {
        "id": "Cgg87sTj7Eq6"
      }
    },
    {
      "cell_type": "markdown",
      "source": [
        "3.1 Check if a number is positive,negative or zero"
      ],
      "metadata": {
        "id": "39-qtNFE7KM8"
      }
    },
    {
      "cell_type": "code",
      "source": [
        "number = int(input(\"Enter a number: \"))\n",
        "if number > 0:\n",
        "    print(\"The number is positive.\")\n",
        "elif number < 0:\n",
        "    print(\"The number is negative.\")\n",
        "else:\n",
        "    print(\"The number is zero.\")"
      ],
      "metadata": {
        "colab": {
          "base_uri": "https://localhost:8080/"
        },
        "id": "nu98YZpf7QR7",
        "outputId": "869d3228-5375-409b-c0be-a1a32950d1ee"
      },
      "execution_count": 9,
      "outputs": [
        {
          "output_type": "stream",
          "name": "stdout",
          "text": [
            "Enter a number: 2\n",
            "The number is positive.\n"
          ]
        }
      ]
    },
    {
      "cell_type": "markdown",
      "source": [
        "3.2 Check if number is odd or even"
      ],
      "metadata": {
        "id": "duNnRuB37YH-"
      }
    },
    {
      "cell_type": "code",
      "source": [
        "num = int(input(\"Enter a number: \"))\n",
        "if num % 2 == 0:\n",
        "    print(\"The number is even.\")\n",
        "else:\n",
        "    print(\"The number is odd.\")"
      ],
      "metadata": {
        "colab": {
          "base_uri": "https://localhost:8080/"
        },
        "id": "ckRs-HgV7ckm",
        "outputId": "5230de5a-937f-48fb-b011-eaff323e832f"
      },
      "execution_count": 10,
      "outputs": [
        {
          "output_type": "stream",
          "name": "stdout",
          "text": [
            "Enter a number: 3\n",
            "The number is odd.\n"
          ]
        }
      ]
    },
    {
      "cell_type": "markdown",
      "source": [
        "Q4 Loops"
      ],
      "metadata": {
        "id": "HPOuri3I7ltq"
      }
    },
    {
      "cell_type": "markdown",
      "source": [
        "4.1 Print numbers from 1 to 10 using a for loop"
      ],
      "metadata": {
        "id": "4qhIFjLq7okn"
      }
    },
    {
      "cell_type": "code",
      "source": [
        "for i in range(1, 11):\n",
        "    print(i)"
      ],
      "metadata": {
        "id": "ETD_FBUv7xRE"
      },
      "execution_count": null,
      "outputs": []
    },
    {
      "cell_type": "markdown",
      "source": [
        " 4.2 Print numbers from 1 to 10 using a while loop"
      ],
      "metadata": {
        "id": "4Uz-X71I72Ti"
      }
    },
    {
      "cell_type": "code",
      "source": [
        "i = 1\n",
        "while i <= 10:\n",
        "    print(i)\n",
        "    i += 1"
      ],
      "metadata": {
        "id": "mXDFSnNo78Ei"
      },
      "execution_count": null,
      "outputs": []
    },
    {
      "cell_type": "markdown",
      "source": [
        "4.3 Calculate the sum of numbers from 1 to 100"
      ],
      "metadata": {
        "id": "NYT4n3TM8A2G"
      }
    },
    {
      "cell_type": "code",
      "source": [
        "sum = 0\n",
        "for i in range(1, 101):\n",
        "    sum += i\n",
        "print(\"Sum from 1 to 100:\", sum)"
      ],
      "metadata": {
        "id": "ieNDwF-y8E87"
      },
      "execution_count": null,
      "outputs": []
    },
    {
      "cell_type": "markdown",
      "source": [
        "Q5 Data structures"
      ],
      "metadata": {
        "id": "SvvLU0eW8LZg"
      }
    },
    {
      "cell_type": "markdown",
      "source": [
        "5.1  Find largest and smallest numbers in a list"
      ],
      "metadata": {
        "id": "Bey-9xiV8Ou6"
      }
    },
    {
      "cell_type": "code",
      "source": [
        "num = [10, 5, 46, 25, 3]\n",
        "print(\"Largest number:\", max(num))\n",
        "print(\"Smallest number:\", min(num))\n"
      ],
      "metadata": {
        "colab": {
          "base_uri": "https://localhost:8080/"
        },
        "id": "2OzHLEMp8V6V",
        "outputId": "ed8c712e-5ff1-4794-8423-20b7ada358bb"
      },
      "execution_count": 12,
      "outputs": [
        {
          "output_type": "stream",
          "name": "stdout",
          "text": [
            "Largest number: 46\n",
            "Smallest number: 3\n"
          ]
        }
      ]
    },
    {
      "cell_type": "markdown",
      "source": [
        "5.2 Retrieve the value of a given key from a dictionary"
      ],
      "metadata": {
        "id": "VVh_28kW8hns"
      }
    },
    {
      "cell_type": "code",
      "source": [
        "Student={\n",
        "    \"name\":\"Rujul\",\n",
        "    \"rollno\":200\n",
        "\n",
        "}\n",
        "print(Student[\"rollno\"])"
      ],
      "metadata": {
        "colab": {
          "base_uri": "https://localhost:8080/"
        },
        "id": "2GB2taSF8lvd",
        "outputId": "c8e40688-6ad2-4ca1-87f9-a298138d9e40"
      },
      "execution_count": 13,
      "outputs": [
        {
          "output_type": "stream",
          "name": "stdout",
          "text": [
            "200\n"
          ]
        }
      ]
    },
    {
      "cell_type": "markdown",
      "source": [
        "5.3 Sort a list in ascending and descending order"
      ],
      "metadata": {
        "id": "LhuAiXKm9NW-"
      }
    },
    {
      "cell_type": "code",
      "source": [
        "numbers = [8, 0, 5, 21, 1]\n",
        "numbers.sort()\n",
        "print(numbers)\n",
        "numbers.sort(reverse=True)\n",
        "print(numbers)\n"
      ],
      "metadata": {
        "colab": {
          "base_uri": "https://localhost:8080/"
        },
        "id": "QwWNPYHt9RS7",
        "outputId": "0b3e9655-1ab8-4edb-c541-8546b98d50ec"
      },
      "execution_count": 16,
      "outputs": [
        {
          "output_type": "stream",
          "name": "stdout",
          "text": [
            "[0, 1, 5, 8, 21]\n",
            "[21, 8, 5, 1, 0]\n"
          ]
        }
      ]
    },
    {
      "cell_type": "markdown",
      "source": [
        "5.4 Merge two dictionaries"
      ],
      "metadata": {
        "id": "xaY_AG4x92pY"
      }
    },
    {
      "cell_type": "code",
      "source": [
        "dict1 = {\"a\": 1, \"b\": 2}\n",
        "dict2 = {\"c\": 3, \"d\": 4}\n",
        "merged_dict = {**dict1, **dict2}\n",
        "print(\"Merged dictionary:\", merged_dict)"
      ],
      "metadata": {
        "colab": {
          "base_uri": "https://localhost:8080/"
        },
        "id": "96M2mLy-96DX",
        "outputId": "d9bf3360-bdf1-47f1-8b41-03c337609347"
      },
      "execution_count": 17,
      "outputs": [
        {
          "output_type": "stream",
          "name": "stdout",
          "text": [
            "Merged dictionary: {'a': 1, 'b': 2, 'c': 3, 'd': 4}\n"
          ]
        }
      ]
    },
    {
      "cell_type": "markdown",
      "source": [
        "Q6 Strings"
      ],
      "metadata": {
        "id": "n9pODodS-WAq"
      }
    },
    {
      "cell_type": "markdown",
      "source": [
        "6.2 Reverse a string"
      ],
      "metadata": {
        "id": "mmJZlyAG-k6B"
      }
    },
    {
      "cell_type": "code",
      "source": [
        "string = \"Python\"\n",
        "print(\"Reversed string:\", string[::-1])"
      ],
      "metadata": {
        "colab": {
          "base_uri": "https://localhost:8080/"
        },
        "id": "Vp8Ku4vp-l6H",
        "outputId": "cb72c39c-45b4-47e1-ce0c-eb4f0b27191b"
      },
      "execution_count": 18,
      "outputs": [
        {
          "output_type": "stream",
          "name": "stdout",
          "text": [
            "Reversed string: nohtyP\n"
          ]
        }
      ]
    },
    {
      "cell_type": "markdown",
      "source": [
        "6.3  Check if a string is a palindrome"
      ],
      "metadata": {
        "id": "EbQd8Bd4-4zx"
      }
    },
    {
      "cell_type": "code",
      "source": [
        "str1=\"madam\"\n",
        "str2 = str1[::-1]\n",
        "if(str2==str1):\n",
        "  print(\"Palindrome\")\n",
        "else:\n",
        "  print(\"Not a palindrome\")"
      ],
      "metadata": {
        "colab": {
          "base_uri": "https://localhost:8080/"
        },
        "id": "_03TBMj2-9j3",
        "outputId": "1879ba74-db4c-4298-fd29-4da72b1122b5"
      },
      "execution_count": 21,
      "outputs": [
        {
          "output_type": "stream",
          "name": "stdout",
          "text": [
            "Palindrome\n"
          ]
        }
      ]
    },
    {
      "cell_type": "markdown",
      "source": [
        "6.1 Count the number of vowels in a string"
      ],
      "metadata": {
        "id": "YNByHqRA_vt5"
      }
    },
    {
      "cell_type": "code",
      "source": [
        "def count_vowels(input_string):\n",
        "    vowels = \"aeiouAEIOU\"\n",
        "    count = 0\n",
        "\n",
        "    for char in input_string:\n",
        "        # Check if the character is a vowel\n",
        "        if char in vowels:\n",
        "            count += 1\n",
        "\n",
        "    return count\n",
        "\n",
        "input_string = \"Hello, World!\"\n",
        "vowel_count = count_vowels(input_string)\n",
        "print(f\"The number of vowels in the string is: {vowel_count}\")"
      ],
      "metadata": {
        "colab": {
          "base_uri": "https://localhost:8080/"
        },
        "id": "GYx01kGd_z57",
        "outputId": "dd90265a-f040-47ef-8d3d-2e0f57f04205"
      },
      "execution_count": 22,
      "outputs": [
        {
          "output_type": "stream",
          "name": "stdout",
          "text": [
            "The number of vowels in the string is: 3\n"
          ]
        }
      ]
    },
    {
      "cell_type": "markdown",
      "source": [
        "Q7 File Handling"
      ],
      "metadata": {
        "id": "UV9mVZVFAjm-"
      }
    },
    {
      "cell_type": "markdown",
      "source": [
        "7.1 Create, write, and read a file"
      ],
      "metadata": {
        "id": "OSimVSTdAmdj"
      }
    },
    {
      "cell_type": "code",
      "source": [
        "with open(\"sample.txt\", \"w\") as file:\n",
        "    file.write(\"Hello, this is a sample text.\")\n",
        "with open(\"sample.txt\", \"r\") as file:\n",
        "    content = file.read()\n",
        "print(\"File content:\", content)"
      ],
      "metadata": {
        "colab": {
          "base_uri": "https://localhost:8080/"
        },
        "id": "8x0rToYmAqvv",
        "outputId": "f05fe92d-e6ef-4acb-ab2d-7b1a24a10ede"
      },
      "execution_count": 23,
      "outputs": [
        {
          "output_type": "stream",
          "name": "stdout",
          "text": [
            "File content: Hello, this is a sample text.\n"
          ]
        }
      ]
    },
    {
      "cell_type": "markdown",
      "source": [
        " 7.2 Append text to an existing file"
      ],
      "metadata": {
        "id": "3FrC1WlQAycu"
      }
    },
    {
      "cell_type": "code",
      "source": [
        "with open(\"sample.txt\", \"a\") as file:\n",
        "    file.write(\"\\nThis is appended text.\")\n",
        "with open(\"sample.txt\", \"r\") as file:\n",
        "    content = file.read()\n",
        "print(\"Updated content:\", content)"
      ],
      "metadata": {
        "colab": {
          "base_uri": "https://localhost:8080/"
        },
        "id": "eBXMoA7aA2oE",
        "outputId": "c35137d8-6196-4e15-b725-eecb409cc171"
      },
      "execution_count": 24,
      "outputs": [
        {
          "output_type": "stream",
          "name": "stdout",
          "text": [
            "Updated content: Hello, this is a sample text.\n",
            "This is appended text.\n"
          ]
        }
      ]
    },
    {
      "cell_type": "markdown",
      "source": [
        "7.3 Count the number of lines in a file"
      ],
      "metadata": {
        "id": "YSky_hm4BEzO"
      }
    },
    {
      "cell_type": "code",
      "source": [
        "with open(\"sample.txt\", \"r\") as file:\n",
        "    lines = file.readlines()\n",
        "print(\"Number of lines:\", len(lines))"
      ],
      "metadata": {
        "colab": {
          "base_uri": "https://localhost:8080/"
        },
        "id": "SOsGO1THBII2",
        "outputId": "e28087ee-890d-468e-c42e-1e03e24ec4a1"
      },
      "execution_count": 25,
      "outputs": [
        {
          "output_type": "stream",
          "name": "stdout",
          "text": [
            "Number of lines: 2\n"
          ]
        }
      ]
    },
    {
      "cell_type": "markdown",
      "source": [
        "Q8 Exception Handling"
      ],
      "metadata": {
        "id": "7yMY6RpbBhCR"
      }
    },
    {
      "cell_type": "markdown",
      "source": [
        "8.1 Handle division by zero"
      ],
      "metadata": {
        "id": "IrxydHyhByOS"
      }
    },
    {
      "cell_type": "code",
      "source": [
        "try:\n",
        "    result = 10 / 0\n",
        "except ZeroDivisionError:\n",
        "    print(\"Division by zero is not allowed.\")\n"
      ],
      "metadata": {
        "colab": {
          "base_uri": "https://localhost:8080/"
        },
        "id": "eVYJtZuiB1SQ",
        "outputId": "68f9f965-1415-4e27-ed43-994cd72a2e91"
      },
      "execution_count": 26,
      "outputs": [
        {
          "output_type": "stream",
          "name": "stdout",
          "text": [
            "Division by zero is not allowed.\n"
          ]
        }
      ]
    },
    {
      "cell_type": "markdown",
      "source": [
        "8.2 Handle invalid input"
      ],
      "metadata": {
        "id": "sBQIXi2TCMC7"
      }
    },
    {
      "cell_type": "code",
      "source": [
        "try:\n",
        "    number = int(input(\"Enter a number: \"))\n",
        "    print(\"You entered:\", number)\n",
        "except ValueError:\n",
        "    print(\"Invalid input! Please enter a number.\")"
      ],
      "metadata": {
        "colab": {
          "base_uri": "https://localhost:8080/"
        },
        "id": "rSspQ14FCP1M",
        "outputId": "0a0ea26d-ef55-4b27-a982-996b4bdd007f"
      },
      "execution_count": 28,
      "outputs": [
        {
          "output_type": "stream",
          "name": "stdout",
          "text": [
            "Enter a number: s\n",
            "Invalid input! Please enter a number.\n"
          ]
        }
      ]
    },
    {
      "cell_type": "markdown",
      "source": [
        "8.3 Demonstrate the use of finally"
      ],
      "metadata": {
        "id": "5ZNvFj49CYWh"
      }
    },
    {
      "cell_type": "code",
      "source": [
        "try:\n",
        "    result = 10 / 2\n",
        "finally:\n",
        "    print(\"This block executes no matter what.\")"
      ],
      "metadata": {
        "colab": {
          "base_uri": "https://localhost:8080/"
        },
        "id": "a2UCnOMtCbIv",
        "outputId": "12a0dd60-4563-4523-e36a-9e2e86634902"
      },
      "execution_count": 29,
      "outputs": [
        {
          "output_type": "stream",
          "name": "stdout",
          "text": [
            "This block executes no matter what.\n"
          ]
        }
      ]
    },
    {
      "cell_type": "markdown",
      "source": [
        "Q9 Random Numbers"
      ],
      "metadata": {
        "id": "6Pciv4dLCmPz"
      }
    },
    {
      "cell_type": "markdown",
      "source": [
        "9.1 Generate 5 random numbers"
      ],
      "metadata": {
        "id": "E5ywUx8FCp3j"
      }
    },
    {
      "cell_type": "code",
      "source": [
        "import random\n",
        "print(\"Random numbers:\", [random.randint(1, 100) for _ in range(5)])"
      ],
      "metadata": {
        "colab": {
          "base_uri": "https://localhost:8080/"
        },
        "id": "2YvHyTH6Cu5y",
        "outputId": "fc0561f3-3af0-45e1-8fd2-74955afd72db"
      },
      "execution_count": 30,
      "outputs": [
        {
          "output_type": "stream",
          "name": "stdout",
          "text": [
            "Random numbers: [50, 68, 57, 15, 43]\n"
          ]
        }
      ]
    },
    {
      "cell_type": "markdown",
      "source": [
        "9.2 Generate a random number and check if it's prime"
      ],
      "metadata": {
        "id": "HzxwyuXdDLC2"
      }
    },
    {
      "cell_type": "code",
      "source": [
        "number = random.randint(1, 100)\n",
        "if number < 2:\n",
        "    print(f\"{number} is not a prime number.\")\n",
        "for i in range(2, number):\n",
        "    if number % i == 0:\n",
        "        print(f\"{number} is not a prime number.\")\n",
        "        break\n",
        "else:\n",
        "    print(f\"{number} is a prime number.\")\n"
      ],
      "metadata": {
        "colab": {
          "base_uri": "https://localhost:8080/"
        },
        "id": "YAZMmT-IDPpW",
        "outputId": "a215c8da-b762-45d0-eb3f-219f91b0db81"
      },
      "execution_count": 38,
      "outputs": [
        {
          "output_type": "stream",
          "name": "stdout",
          "text": [
            "80 is not a prime number.\n"
          ]
        }
      ]
    },
    {
      "cell_type": "markdown",
      "source": [
        "9.3 Simulate rolling a six-sided die"
      ],
      "metadata": {
        "id": "zNRuhmA0Doaa"
      }
    },
    {
      "cell_type": "code",
      "source": [
        "print(\"Rolled die:\", random.randint(1, 6))\n"
      ],
      "metadata": {
        "colab": {
          "base_uri": "https://localhost:8080/"
        },
        "id": "c77RdxPiDrb1",
        "outputId": "d0507b3f-7bec-41dc-f4b4-50e7d997585f"
      },
      "execution_count": 31,
      "outputs": [
        {
          "output_type": "stream",
          "name": "stdout",
          "text": [
            "Rolled die: 4\n"
          ]
        }
      ]
    },
    {
      "cell_type": "markdown",
      "source": [
        "9.4 Shuffle a list"
      ],
      "metadata": {
        "id": "so0SeqkLDwPO"
      }
    },
    {
      "cell_type": "code",
      "source": [
        "numbers = [1, 2, 3, 4, 5]\n",
        "random.shuffle(numbers)\n",
        "print(\"Shuffled list:\", numbers)"
      ],
      "metadata": {
        "colab": {
          "base_uri": "https://localhost:8080/"
        },
        "id": "sQQjs853DzBc",
        "outputId": "08b07d89-9608-4878-e417-1bf008b20043"
      },
      "execution_count": 32,
      "outputs": [
        {
          "output_type": "stream",
          "name": "stdout",
          "text": [
            "Shuffled list: [4, 3, 1, 5, 2]\n"
          ]
        }
      ]
    },
    {
      "cell_type": "markdown",
      "source": [
        "9.5 Randomly select an item from a list"
      ],
      "metadata": {
        "id": "2XibSNnBD3dQ"
      }
    },
    {
      "cell_type": "code",
      "source": [
        "print(\"Random item:\", random.choice(numbers))\n"
      ],
      "metadata": {
        "colab": {
          "base_uri": "https://localhost:8080/"
        },
        "id": "O-Nl70_CD6h9",
        "outputId": "d2a571be-f786-4006-d8d1-b78e55415a28"
      },
      "execution_count": 33,
      "outputs": [
        {
          "output_type": "stream",
          "name": "stdout",
          "text": [
            "Random item: 5\n"
          ]
        }
      ]
    },
    {
      "cell_type": "markdown",
      "source": [
        "9.6 Generate a random password"
      ],
      "metadata": {
        "id": "Tms0QI0_EOl4"
      }
    },
    {
      "cell_type": "code",
      "source": [
        "length = 8\n",
        "password = ''.join(random.choices(\"abcdefghijklmnopqrstuvwxyzABCDEFGHIJKLMNOPQRSTUVWXYZ0123456789!@#$%^&*\", k=length))\n",
        "print(\"Random password:\", password)"
      ],
      "metadata": {
        "colab": {
          "base_uri": "https://localhost:8080/"
        },
        "id": "f12B8Ri4EPQr",
        "outputId": "8dba28d1-b321-4af1-fa6a-367dda9a60e3"
      },
      "execution_count": 39,
      "outputs": [
        {
          "output_type": "stream",
          "name": "stdout",
          "text": [
            "Random password: pOq&tSYH\n"
          ]
        }
      ]
    },
    {
      "cell_type": "markdown",
      "source": [
        "9.7 Pick a random card from a deck"
      ],
      "metadata": {
        "id": "OCHtZyFvEPpx"
      }
    },
    {
      "cell_type": "code",
      "source": [
        "suits = [\"Hearts\", \"Diamonds\", \"Clubs\", \"Spades\"]\n",
        "ranks = [\"2\", \"3\", \"4\", \"5\", \"6\", \"7\", \"8\", \"9\", \"10\", \"Jack\", \"Queen\", \"King\", \"Ace\"]\n",
        "card = f\"{random.choice(ranks)} of {random.choice(suits)}\"\n",
        "print(\"Random card:\", card)"
      ],
      "metadata": {
        "colab": {
          "base_uri": "https://localhost:8080/"
        },
        "id": "p79pTtuGEUvO",
        "outputId": "08929909-4339-43f8-e145-b415bedb91ec"
      },
      "execution_count": 40,
      "outputs": [
        {
          "output_type": "stream",
          "name": "stdout",
          "text": [
            "Random card: 2 of Diamonds\n"
          ]
        }
      ]
    },
    {
      "cell_type": "markdown",
      "source": [
        "Q10 Command Line Arguments"
      ],
      "metadata": {
        "id": "j4DvoI7NF9yf"
      }
    },
    {
      "cell_type": "markdown",
      "source": [
        "10.1 Add two numbers from command-line arguments"
      ],
      "metadata": {
        "id": "Pn4jzFmwGCRY"
      }
    },
    {
      "cell_type": "code",
      "source": [
        "import sys\n",
        "if len(sys.argv) == 3:\n",
        "    num1 = int(sys.argv[1])\n",
        "    num2 = int(sys.argv[2])\n",
        "    print(\"Sum:\", num1 + num2)"
      ],
      "metadata": {
        "id": "ALIUoEG6Ip5n"
      },
      "execution_count": null,
      "outputs": []
    },
    {
      "cell_type": "markdown",
      "source": [
        "10.2 Print the length of a string from command-line arguments"
      ],
      "metadata": {
        "id": "xkhorz6zGmkH"
      }
    },
    {
      "cell_type": "code",
      "source": [
        "import sys\n",
        "if len(sys.argv) == 2:\n",
        "    string = sys.argv[1]\n",
        "    print(\"Length of the string:\", len(string))\n"
      ],
      "metadata": {
        "id": "mMyDq9AYGnmz"
      },
      "execution_count": 47,
      "outputs": []
    },
    {
      "cell_type": "markdown",
      "source": [
        "Q11 Use of Libraries"
      ],
      "metadata": {
        "id": "0O9bX18QG6m9"
      }
    },
    {
      "cell_type": "markdown",
      "source": [
        "11.1  Calculate the square root of a number\n"
      ],
      "metadata": {
        "id": "235gMV-NG_AG"
      }
    },
    {
      "cell_type": "code",
      "source": [
        "import math\n",
        "import datetime\n",
        "import os\n",
        "number = 16\n",
        "print(\"Square root:\", math.sqrt(number))"
      ],
      "metadata": {
        "colab": {
          "base_uri": "https://localhost:8080/"
        },
        "id": "3rejZroSHCw4",
        "outputId": "b6ef4a9c-266c-44af-d498-4f52acd0f8f3"
      },
      "execution_count": 48,
      "outputs": [
        {
          "output_type": "stream",
          "name": "stdout",
          "text": [
            "Square root: 4.0\n"
          ]
        }
      ]
    },
    {
      "cell_type": "markdown",
      "source": [
        "11.2 Print the current date and time"
      ],
      "metadata": {
        "id": "izw6RCz-HKvV"
      }
    },
    {
      "cell_type": "code",
      "source": [
        "print(\"Current date and time:\", datetime.datetime.now())\n"
      ],
      "metadata": {
        "id": "NDZO_BaMHtAw"
      },
      "execution_count": null,
      "outputs": []
    },
    {
      "cell_type": "markdown",
      "source": [
        "11.3 List all files in the current directory"
      ],
      "metadata": {
        "id": "sdtsqwolHvQu"
      }
    },
    {
      "cell_type": "code",
      "source": [
        "print(\"Files in the current directory:\", os.listdir(\".\"))"
      ],
      "metadata": {
        "id": "m5XQS1ECHx6E"
      },
      "execution_count": null,
      "outputs": []
    }
  ]
}